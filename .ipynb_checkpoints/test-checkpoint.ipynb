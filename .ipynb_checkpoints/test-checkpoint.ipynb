{
 "cells": [
  {
   "cell_type": "markdown",
   "source": [
    "##this is markdown"
   ],
   "metadata": {
    "collapsed": false
   },
   "id": "131c861a0e87140e"
  },
  {
   "cell_type": "code",
   "execution_count": 1,
   "outputs": [
    {
     "name": "stdout",
     "output_type": "stream",
     "text": [
      "hi\n"
     ]
    }
   ],
   "source": [
    "print(\"hi\")"
   ],
   "metadata": {
    "collapsed": false,
    "ExecuteTime": {
     "end_time": "2024-04-23T20:38:53.423753Z",
     "start_time": "2024-04-23T20:38:53.416954Z"
    }
   },
   "id": "e3416c522f038d83"
  },
  {
   "cell_type": "code",
   "execution_count": 4,
   "outputs": [
    {
     "data": {
      "text/plain": "   Job Zone        Code                Occupation Data-level\n0       4.0  13-2011.00  Accountants and Auditors          Y\n1       2.0  27-2011.00                    Actors          Y\n2       4.0  15-2011.00                 Actuaries          Y\n3       5.0  29-1291.00            Acupuncturists          Y\n4       3.0  29-1141.01         Acute Care Nurses          Y",
      "text/html": "<div>\n<style scoped>\n    .dataframe tbody tr th:only-of-type {\n        vertical-align: middle;\n    }\n\n    .dataframe tbody tr th {\n        vertical-align: top;\n    }\n\n    .dataframe thead th {\n        text-align: right;\n    }\n</style>\n<table border=\"1\" class=\"dataframe\">\n  <thead>\n    <tr style=\"text-align: right;\">\n      <th></th>\n      <th>Job Zone</th>\n      <th>Code</th>\n      <th>Occupation</th>\n      <th>Data-level</th>\n    </tr>\n  </thead>\n  <tbody>\n    <tr>\n      <th>0</th>\n      <td>4.0</td>\n      <td>13-2011.00</td>\n      <td>Accountants and Auditors</td>\n      <td>Y</td>\n    </tr>\n    <tr>\n      <th>1</th>\n      <td>2.0</td>\n      <td>27-2011.00</td>\n      <td>Actors</td>\n      <td>Y</td>\n    </tr>\n    <tr>\n      <th>2</th>\n      <td>4.0</td>\n      <td>15-2011.00</td>\n      <td>Actuaries</td>\n      <td>Y</td>\n    </tr>\n    <tr>\n      <th>3</th>\n      <td>5.0</td>\n      <td>29-1291.00</td>\n      <td>Acupuncturists</td>\n      <td>Y</td>\n    </tr>\n    <tr>\n      <th>4</th>\n      <td>3.0</td>\n      <td>29-1141.01</td>\n      <td>Acute Care Nurses</td>\n      <td>Y</td>\n    </tr>\n  </tbody>\n</table>\n</div>"
     },
     "execution_count": 4,
     "metadata": {},
     "output_type": "execute_result"
    }
   ],
   "source": [
    "import pandas as pd\n",
    "\n",
    "#read in data from my github repo\n",
    "data = pd.read_csv(\"/Users/therealu/Documents/UCSD/classes/econ/ECON191/data/data before merge/preliminary data/PW data/All_Occupations.csv\")\n",
    "data.head()"
   ],
   "metadata": {
    "collapsed": false,
    "ExecuteTime": {
     "end_time": "2024-04-23T21:23:11.971677Z",
     "start_time": "2024-04-23T21:23:11.955878Z"
    }
   },
   "id": "66a37d7fea239aa5"
  },
  {
   "cell_type": "code",
   "execution_count": null,
   "outputs": [],
   "source": [],
   "metadata": {
    "collapsed": false
   },
   "id": "23306c8b5e2f95e4"
  },
  {
   "cell_type": "code",
   "execution_count": null,
   "outputs": [],
   "source": [],
   "metadata": {
    "collapsed": false
   },
   "id": "732dc695923c83ce"
  }
 ],
 "metadata": {
  "kernelspec": {
   "display_name": "Python 3",
   "language": "python",
   "name": "python3"
  },
  "language_info": {
   "codemirror_mode": {
    "name": "ipython",
    "version": 2
   },
   "file_extension": ".py",
   "mimetype": "text/x-python",
   "name": "python",
   "nbconvert_exporter": "python",
   "pygments_lexer": "ipython2",
   "version": "2.7.6"
  }
 },
 "nbformat": 4,
 "nbformat_minor": 5
}
