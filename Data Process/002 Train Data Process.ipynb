{
 "cells": [
  {
   "cell_type": "code",
   "execution_count": 55,
   "outputs": [],
   "source": [
    "import pandas as pd"
   ],
   "metadata": {
    "collapsed": false,
    "ExecuteTime": {
     "end_time": "2024-05-19T03:25:31.008385Z",
     "start_time": "2024-05-19T03:25:31.002508Z"
    }
   },
   "id": "d78ea64e6596af75"
  },
  {
   "cell_type": "markdown",
   "source": [
    "Merged Train data"
   ],
   "metadata": {
    "collapsed": false
   },
   "id": "cc7894ace41dbdfe"
  },
  {
   "cell_type": "code",
   "execution_count": 12,
   "id": "initial_id",
   "metadata": {
    "collapsed": true,
    "ExecuteTime": {
     "end_time": "2024-05-19T02:36:26.633176Z",
     "start_time": "2024-05-19T02:36:26.119507Z"
    }
   },
   "outputs": [],
   "source": [
    "#Load Train dataset\n",
    "Train_df_1 = pd.read_csv(\"~/Desktop/Spring 2024/POLI179/poli 179 data/People's daily/Train/Train_DataSet.csv\")\n",
    "Train_df_2 = pd.read_csv(\"~/Desktop/Spring 2024/POLI179/poli 179 data/People's daily/Train/Second_DataSet.csv\",header=None)\n",
    "Train_label_1 = pd.read_csv(\"~/Desktop/Spring 2024/POLI179/poli 179 data/People's daily/Train/Train_DataSet_Label.csv\")\n",
    "Train_label_2 = pd.read_csv(\"~/Desktop/Spring 2024/POLI179/poli 179 data/People's daily/Train/Second_DataSet_Label.csv\",header=None)\n",
    "Train_df_2.columns = ['id', 'title', 'content']\n",
    "Train_label_2.columns = ['id', 'label']"
   ]
  },
  {
   "cell_type": "markdown",
   "source": [
    "Positive emotions correspond to 0\n",
    "neutral emotions correspond to 1\n",
    "negative emotions correspond to 2"
   ],
   "metadata": {
    "collapsed": false
   },
   "id": "8e2495a82321c786"
  },
  {
   "cell_type": "code",
   "execution_count": 0,
   "outputs": [],
   "source": [
    "train_df = pd.concat([Train_df_1, Train_df_2], ignore_index=True)\n",
    "train_df['TextBody'] = train_df['title'] + train_df['content']"
   ],
   "metadata": {
    "collapsed": false
   },
   "id": "ac18545f41571ca5"
  },
  {
   "cell_type": "code",
   "execution_count": 29,
   "outputs": [],
   "source": [
    "train_df = train_df.drop(columns=['title', 'content'])"
   ],
   "metadata": {
    "collapsed": false,
    "ExecuteTime": {
     "end_time": "2024-05-19T02:50:12.209634Z",
     "start_time": "2024-05-19T02:50:12.201648Z"
    }
   },
   "id": "d69685e5c1559646"
  },
  {
   "cell_type": "code",
   "execution_count": 31,
   "outputs": [],
   "source": [
    "train_df = train_df.dropna(subset=['id', 'TextBody'])"
   ],
   "metadata": {
    "collapsed": false,
    "ExecuteTime": {
     "end_time": "2024-05-19T02:54:28.249158Z",
     "start_time": "2024-05-19T02:54:28.221181Z"
    }
   },
   "id": "5861c75236e3d637"
  },
  {
   "cell_type": "code",
   "execution_count": 32,
   "outputs": [],
   "source": [
    "train_df.to_csv(\"~/Desktop/Spring 2024/POLI179/poli 179 data/People's daily/Train/all_train_df.csv\")"
   ],
   "metadata": {
    "collapsed": false,
    "ExecuteTime": {
     "end_time": "2024-05-19T02:54:34.162269Z",
     "start_time": "2024-05-19T02:54:33.954987Z"
    }
   },
   "id": "9a651277a6b715af"
  },
  {
   "cell_type": "code",
   "execution_count": 23,
   "outputs": [],
   "source": [
    "train_label = pd.concat([Train_label_1, Train_label_2], ignore_index=True)"
   ],
   "metadata": {
    "collapsed": false,
    "ExecuteTime": {
     "end_time": "2024-05-19T02:44:29.721558Z",
     "start_time": "2024-05-19T02:44:29.712880Z"
    }
   },
   "id": "384ffce48831a513"
  },
  {
   "cell_type": "code",
   "execution_count": 24,
   "outputs": [],
   "source": [
    "train_label.to_csv(\"~/Desktop/Spring 2024/POLI179/poli 179 data/People's daily/Train/all_train_label.csv\")"
   ],
   "metadata": {
    "collapsed": false,
    "ExecuteTime": {
     "end_time": "2024-05-19T02:44:59.538448Z",
     "start_time": "2024-05-19T02:44:59.516737Z"
    }
   },
   "id": "2a230a9979718217"
  }
 ],
 "metadata": {
  "kernelspec": {
   "display_name": "Python 3",
   "language": "python",
   "name": "python3"
  },
  "language_info": {
   "codemirror_mode": {
    "name": "ipython",
    "version": 2
   },
   "file_extension": ".py",
   "mimetype": "text/x-python",
   "name": "python",
   "nbconvert_exporter": "python",
   "pygments_lexer": "ipython2",
   "version": "2.7.6"
  }
 },
 "nbformat": 4,
 "nbformat_minor": 5
}
