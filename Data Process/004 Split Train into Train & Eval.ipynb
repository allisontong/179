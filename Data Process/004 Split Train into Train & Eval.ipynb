{
 "cells": [
  {
   "cell_type": "code",
   "execution_count": 4,
   "outputs": [
    {
     "ename": "ModuleNotFoundError",
     "evalue": "No module named 'sklearn.externals._scipy'",
     "output_type": "error",
     "traceback": [
      "\u001B[0;31m---------------------------------------------------------------------------\u001B[0m",
      "\u001B[0;31mModuleNotFoundError\u001B[0m                       Traceback (most recent call last)",
      "Cell \u001B[0;32mIn[4], line 2\u001B[0m\n\u001B[1;32m      1\u001B[0m \u001B[38;5;28;01mimport\u001B[39;00m \u001B[38;5;21;01mpandas\u001B[39;00m \u001B[38;5;28;01mas\u001B[39;00m \u001B[38;5;21;01mpd\u001B[39;00m\n\u001B[0;32m----> 2\u001B[0m \u001B[38;5;28;01mfrom\u001B[39;00m \u001B[38;5;21;01msklearn\u001B[39;00m\u001B[38;5;21;01m.\u001B[39;00m\u001B[38;5;21;01mmodel_selection\u001B[39;00m \u001B[38;5;28;01mimport\u001B[39;00m train_test_split\n",
      "File \u001B[0;32m~/PycharmProjects/pythonProject/pythonProject13/venv/lib/python3.10/site-packages/sklearn/__init__.py:87\u001B[0m\n\u001B[1;32m     73\u001B[0m     \u001B[38;5;66;03m# We are not importing the rest of scikit-learn during the build\u001B[39;00m\n\u001B[1;32m     74\u001B[0m     \u001B[38;5;66;03m# process, as it may not be compiled yet\u001B[39;00m\n\u001B[1;32m     75\u001B[0m \u001B[38;5;28;01melse\u001B[39;00m:\n\u001B[0;32m   (...)\u001B[0m\n\u001B[1;32m     81\u001B[0m     \u001B[38;5;66;03m# later is linked to the OpenMP runtime to make it possible to introspect\u001B[39;00m\n\u001B[1;32m     82\u001B[0m     \u001B[38;5;66;03m# it and importing it first would fail if the OpenMP dll cannot be found.\u001B[39;00m\n\u001B[1;32m     83\u001B[0m     \u001B[38;5;28;01mfrom\u001B[39;00m \u001B[38;5;21;01m.\u001B[39;00m \u001B[38;5;28;01mimport\u001B[39;00m (\n\u001B[1;32m     84\u001B[0m         __check_build,  \u001B[38;5;66;03m# noqa: F401\u001B[39;00m\n\u001B[1;32m     85\u001B[0m         _distributor_init,  \u001B[38;5;66;03m# noqa: F401\u001B[39;00m\n\u001B[1;32m     86\u001B[0m     )\n\u001B[0;32m---> 87\u001B[0m     \u001B[38;5;28;01mfrom\u001B[39;00m \u001B[38;5;21;01m.\u001B[39;00m\u001B[38;5;21;01mbase\u001B[39;00m \u001B[38;5;28;01mimport\u001B[39;00m clone\n\u001B[1;32m     88\u001B[0m     \u001B[38;5;28;01mfrom\u001B[39;00m \u001B[38;5;21;01m.\u001B[39;00m\u001B[38;5;21;01mutils\u001B[39;00m\u001B[38;5;21;01m.\u001B[39;00m\u001B[38;5;21;01m_show_versions\u001B[39;00m \u001B[38;5;28;01mimport\u001B[39;00m show_versions\n\u001B[1;32m     90\u001B[0m     __all__ \u001B[38;5;241m=\u001B[39m [\n\u001B[1;32m     91\u001B[0m         \u001B[38;5;124m\"\u001B[39m\u001B[38;5;124mcalibration\u001B[39m\u001B[38;5;124m\"\u001B[39m,\n\u001B[1;32m     92\u001B[0m         \u001B[38;5;124m\"\u001B[39m\u001B[38;5;124mcluster\u001B[39m\u001B[38;5;124m\"\u001B[39m,\n\u001B[0;32m   (...)\u001B[0m\n\u001B[1;32m    133\u001B[0m         \u001B[38;5;124m\"\u001B[39m\u001B[38;5;124mshow_versions\u001B[39m\u001B[38;5;124m\"\u001B[39m,\n\u001B[1;32m    134\u001B[0m     ]\n",
      "File \u001B[0;32m~/PycharmProjects/pythonProject/pythonProject13/venv/lib/python3.10/site-packages/sklearn/base.py:19\u001B[0m\n\u001B[1;32m     17\u001B[0m \u001B[38;5;28;01mfrom\u001B[39;00m \u001B[38;5;21;01m.\u001B[39;00m\u001B[38;5;21;01m_config\u001B[39;00m \u001B[38;5;28;01mimport\u001B[39;00m config_context, get_config\n\u001B[1;32m     18\u001B[0m \u001B[38;5;28;01mfrom\u001B[39;00m \u001B[38;5;21;01m.\u001B[39;00m\u001B[38;5;21;01mexceptions\u001B[39;00m \u001B[38;5;28;01mimport\u001B[39;00m InconsistentVersionWarning\n\u001B[0;32m---> 19\u001B[0m \u001B[38;5;28;01mfrom\u001B[39;00m \u001B[38;5;21;01m.\u001B[39;00m\u001B[38;5;21;01mutils\u001B[39;00m \u001B[38;5;28;01mimport\u001B[39;00m _IS_32BIT\n\u001B[1;32m     20\u001B[0m \u001B[38;5;28;01mfrom\u001B[39;00m \u001B[38;5;21;01m.\u001B[39;00m\u001B[38;5;21;01mutils\u001B[39;00m\u001B[38;5;21;01m.\u001B[39;00m\u001B[38;5;21;01m_estimator_html_repr\u001B[39;00m \u001B[38;5;28;01mimport\u001B[39;00m _HTMLDocumentationLinkMixin, estimator_html_repr\n\u001B[1;32m     21\u001B[0m \u001B[38;5;28;01mfrom\u001B[39;00m \u001B[38;5;21;01m.\u001B[39;00m\u001B[38;5;21;01mutils\u001B[39;00m\u001B[38;5;21;01m.\u001B[39;00m\u001B[38;5;21;01m_metadata_requests\u001B[39;00m \u001B[38;5;28;01mimport\u001B[39;00m _MetadataRequester, _routing_enabled\n",
      "File \u001B[0;32m~/PycharmProjects/pythonProject/pythonProject13/venv/lib/python3.10/site-packages/sklearn/utils/__init__.py:22\u001B[0m\n\u001B[1;32m     20\u001B[0m \u001B[38;5;28;01mfrom\u001B[39;00m \u001B[38;5;21;01m.\u001B[39;00m \u001B[38;5;28;01mimport\u001B[39;00m _joblib, metadata_routing\n\u001B[1;32m     21\u001B[0m \u001B[38;5;28;01mfrom\u001B[39;00m \u001B[38;5;21;01m.\u001B[39;00m\u001B[38;5;21;01m_bunch\u001B[39;00m \u001B[38;5;28;01mimport\u001B[39;00m Bunch\n\u001B[0;32m---> 22\u001B[0m \u001B[38;5;28;01mfrom\u001B[39;00m \u001B[38;5;21;01m.\u001B[39;00m\u001B[38;5;21;01m_estimator_html_repr\u001B[39;00m \u001B[38;5;28;01mimport\u001B[39;00m estimator_html_repr\n\u001B[1;32m     23\u001B[0m \u001B[38;5;28;01mfrom\u001B[39;00m \u001B[38;5;21;01m.\u001B[39;00m\u001B[38;5;21;01m_param_validation\u001B[39;00m \u001B[38;5;28;01mimport\u001B[39;00m Integral, Interval, validate_params\n\u001B[1;32m     24\u001B[0m \u001B[38;5;28;01mfrom\u001B[39;00m \u001B[38;5;21;01m.\u001B[39;00m\u001B[38;5;21;01mclass_weight\u001B[39;00m \u001B[38;5;28;01mimport\u001B[39;00m compute_class_weight, compute_sample_weight\n",
      "File \u001B[0;32m~/PycharmProjects/pythonProject/pythonProject13/venv/lib/python3.10/site-packages/sklearn/utils/_estimator_html_repr.py:10\u001B[0m\n\u001B[1;32m      7\u001B[0m \u001B[38;5;28;01mfrom\u001B[39;00m \u001B[38;5;21;01mstring\u001B[39;00m \u001B[38;5;28;01mimport\u001B[39;00m Template\n\u001B[1;32m      9\u001B[0m \u001B[38;5;28;01mfrom\u001B[39;00m \u001B[38;5;21;01m.\u001B[39;00m\u001B[38;5;21;01m.\u001B[39;00m \u001B[38;5;28;01mimport\u001B[39;00m __version__, config_context\n\u001B[0;32m---> 10\u001B[0m \u001B[38;5;28;01mfrom\u001B[39;00m \u001B[38;5;21;01m.\u001B[39;00m\u001B[38;5;21;01mfixes\u001B[39;00m \u001B[38;5;28;01mimport\u001B[39;00m parse_version\n\u001B[1;32m     13\u001B[0m \u001B[38;5;28;01mclass\u001B[39;00m \u001B[38;5;21;01m_IDCounter\u001B[39;00m:\n\u001B[1;32m     14\u001B[0m \u001B[38;5;250m    \u001B[39m\u001B[38;5;124;03m\"\"\"Generate sequential ids with a prefix.\"\"\"\u001B[39;00m\n",
      "File \u001B[0;32m~/PycharmProjects/pythonProject/pythonProject13/venv/lib/python3.10/site-packages/sklearn/utils/fixes.py:392\u001B[0m\n\u001B[1;32m    390\u001B[0m \u001B[38;5;66;03m# TODO: Remove when Scipy 1.12 is the minimum supported version\u001B[39;00m\n\u001B[1;32m    391\u001B[0m \u001B[38;5;28;01mif\u001B[39;00m sp_version \u001B[38;5;241m<\u001B[39m parse_version(\u001B[38;5;124m\"\u001B[39m\u001B[38;5;124m1.12\u001B[39m\u001B[38;5;124m\"\u001B[39m):\n\u001B[0;32m--> 392\u001B[0m     \u001B[38;5;28;01mfrom\u001B[39;00m \u001B[38;5;21;01m.\u001B[39;00m\u001B[38;5;21;01m.\u001B[39;00m\u001B[38;5;21;01mexternals\u001B[39;00m\u001B[38;5;21;01m.\u001B[39;00m\u001B[38;5;21;01m_scipy\u001B[39;00m\u001B[38;5;21;01m.\u001B[39;00m\u001B[38;5;21;01msparse\u001B[39;00m\u001B[38;5;21;01m.\u001B[39;00m\u001B[38;5;21;01mcsgraph\u001B[39;00m \u001B[38;5;28;01mimport\u001B[39;00m laplacian  \u001B[38;5;66;03m# type: ignore  # noqa\u001B[39;00m\n\u001B[1;32m    393\u001B[0m \u001B[38;5;28;01melse\u001B[39;00m:\n\u001B[1;32m    394\u001B[0m     \u001B[38;5;28;01mfrom\u001B[39;00m \u001B[38;5;21;01mscipy\u001B[39;00m\u001B[38;5;21;01m.\u001B[39;00m\u001B[38;5;21;01msparse\u001B[39;00m\u001B[38;5;21;01m.\u001B[39;00m\u001B[38;5;21;01mcsgraph\u001B[39;00m \u001B[38;5;28;01mimport\u001B[39;00m laplacian  \u001B[38;5;66;03m# type: ignore  # noqa  # pragma: no cover\u001B[39;00m\n",
      "\u001B[0;31mModuleNotFoundError\u001B[0m: No module named 'sklearn.externals._scipy'"
     ]
    }
   ],
   "source": [
    "import pandas as pd\n",
    "from sklearn.model_selection import train_test_split"
   ],
   "metadata": {
    "collapsed": false,
    "ExecuteTime": {
     "end_time": "2024-06-02T02:49:46.862411Z",
     "start_time": "2024-06-02T02:49:46.761033Z"
    }
   },
   "id": "d43be92aa1d220d1"
  },
  {
   "cell_type": "code",
   "execution_count": 5,
   "id": "initial_id",
   "metadata": {
    "collapsed": true,
    "ExecuteTime": {
     "end_time": "2024-06-02T02:49:50.355826Z",
     "start_time": "2024-06-02T02:49:49.921071Z"
    }
   },
   "outputs": [],
   "source": [
    "clean_train_df=pd.read_csv(\"~/Desktop/Spring 2024/POLI179/poli 179 data/People's daily/Train/clean_train_df.csv\")"
   ]
  },
  {
   "cell_type": "code",
   "execution_count": 6,
   "outputs": [],
   "source": [
    "train_label = pd.read_csv(\"~/Desktop/Spring 2024/POLI179/poli 179 data/People's daily/Train/all_train_label.csv\")"
   ],
   "metadata": {
    "collapsed": false,
    "ExecuteTime": {
     "end_time": "2024-06-02T02:49:50.970216Z",
     "start_time": "2024-06-02T02:49:50.957270Z"
    }
   },
   "id": "c1f8506847b64f06"
  },
  {
   "cell_type": "code",
   "execution_count": 7,
   "outputs": [],
   "source": [
    "train_df_label = pd.merge(clean_train_df, train_label, on='id')"
   ],
   "metadata": {
    "collapsed": false,
    "ExecuteTime": {
     "end_time": "2024-06-02T02:49:54.242368Z",
     "start_time": "2024-06-02T02:49:54.238052Z"
    }
   },
   "id": "8343f79b0fa4b428"
  },
  {
   "cell_type": "code",
   "execution_count": 8,
   "outputs": [],
   "source": [
    "train_df_label['TextBody'] = train_df_label['TextBody'].replace('nan', pd.NA)"
   ],
   "metadata": {
    "collapsed": false,
    "ExecuteTime": {
     "end_time": "2024-06-02T02:50:06.995829Z",
     "start_time": "2024-06-02T02:50:06.991665Z"
    }
   },
   "id": "b87e435897b03f50"
  },
  {
   "cell_type": "code",
   "execution_count": 9,
   "outputs": [],
   "source": [
    "train_df_label = train_df_label.dropna(subset=['TextBody'])"
   ],
   "metadata": {
    "collapsed": false,
    "ExecuteTime": {
     "end_time": "2024-06-02T02:50:08.551998Z",
     "start_time": "2024-06-02T02:50:08.549401Z"
    }
   },
   "id": "59decb0c5eecaff"
  },
  {
   "cell_type": "code",
   "execution_count": 10,
   "outputs": [],
   "source": [
    "train_df_label = train_df_label.drop(columns=['Unnamed: 0'])"
   ],
   "metadata": {
    "collapsed": false,
    "ExecuteTime": {
     "end_time": "2024-06-02T02:50:09.197439Z",
     "start_time": "2024-06-02T02:50:09.194333Z"
    }
   },
   "id": "bdb61f3332bb945d"
  },
  {
   "cell_type": "code",
   "execution_count": 12,
   "outputs": [],
   "source": [
    "# Split the dataset into training and evaluation sets\n",
    "train, eval= train_test_split(train_df_label, test_size=0.2, random_state=42)  # 20% for evaluation"
   ],
   "metadata": {
    "collapsed": false,
    "ExecuteTime": {
     "end_time": "2024-05-20T22:36:50.159467Z",
     "start_time": "2024-05-20T22:36:50.056006Z"
    }
   },
   "id": "e83d7a26d1e2622"
  },
  {
   "cell_type": "code",
   "execution_count": 13,
   "outputs": [
    {
     "name": "stdout",
     "output_type": "stream",
     "text": [
      "Training DataFrame:\n",
      "                                     id  \\\n",
      "6108   3a3246fa887241fd9bb5fa05f8eb8288   \n",
      "12883  5f7aae75c26742ea9abb0747dd80d5d2   \n",
      "8986   7028f8e7db8048f7b921c2c029a831ce   \n",
      "3932   45cad6fbc981464da4573e703c2c32ef   \n",
      "4623   885d294da65a4caea832a588eaca315b   \n",
      "\n",
      "                                                TextBody  label  \n",
      "6108   官场：为分到集资房他深夜上门给单身女局长送礼，却被潜规则楼道的灯很昏暗，电梯门开了又关上，一...      2  \n",
      "12883  投诉郴州郴电国际有限公司诈骗年月日缴费记录及账户余额年月日缴费记录及账户余额各位领导，本人系...      2  \n",
      "8986   别被双频路由器忽悠了，要用就用真双频搜狐科技搜狐网原标题：别被双频路由器忽悠了，要用就用真双...      1  \n",
      "3932   打印利川小河初中脱贫攻坚“大走访大排查”在行动恩施州政务。本网讯通讯员陈洪江为全面贯彻落实《...      1  \n",
      "4623   心碎！男子带妻儿逛商场，不料试衣镜突然坠落，岁女童被砸身亡素材源于网络，文章“爱吃甜瓜的小城...      2  \n",
      "\n",
      "Evaluation DataFrame:\n",
      "                                     id  \\\n",
      "2069   f12339b5c62943e088da392a9e9e139e   \n",
      "6888   d4c9666ea96843dea17dbe3e3f33ebc1   \n",
      "10980  8c4ecd6ae82e40babc8666f9429f8687   \n",
      "4302   8fe626b41d834a768b48c2a1be088103   \n",
      "9023   441240b82f0947ce83a89560daad7ead   \n",
      "\n",
      "                                                TextBody  label  \n",
      "2069   德国飞行员拒绝与俄军交战，已有人主动辞职：他们实在太强德国作为两次世界大战的发起国，也是目前...      1  \n",
      "6888   菜市场扒窃手机一惯犯男子被判拘役四个月中国法院网讯徐晓霞李红艳近日，江西省南昌市西湖区人民法...      2  \n",
      "10980  【应知应会】党员干部应知名词一党员干部必备口袋书党的性质中国共产党是中国工人阶级的先锋队，同...      1  \n",
      "4302   砚山一老人骑摩托摔倒路边寒夜里煎熬小时后情况原标题：砚山一老人骑摩托摔倒路边寒夜里煎熬小时后...      2  \n",
      "9023   信用柞水党的十八大以来，社会信用体系建设被摆上重要位置加速推进。“党中央、国务院通过一系列决...      1  \n"
     ]
    }
   ],
   "source": [
    "# Display the first few rows of the training and evaluation sets\n",
    "print(\"Training DataFrame:\")\n",
    "print(train.head())\n",
    "print(\"\\nEvaluation DataFrame:\")\n",
    "print(eval.head())"
   ],
   "metadata": {
    "collapsed": false,
    "ExecuteTime": {
     "end_time": "2024-05-21T03:37:40.070365Z",
     "start_time": "2024-05-21T03:37:40.035429Z"
    }
   },
   "id": "996f7de1b19cbb88"
  },
  {
   "cell_type": "code",
   "execution_count": 11,
   "outputs": [],
   "source": [
    "import matplotlib.pyplot as plt"
   ],
   "metadata": {
    "collapsed": false,
    "ExecuteTime": {
     "end_time": "2024-06-02T02:52:25.047902Z",
     "start_time": "2024-06-02T02:52:25.044849Z"
    }
   },
   "id": "878b6a8561404db6"
  },
  {
   "cell_type": "code",
   "execution_count": 13,
   "outputs": [
    {
     "data": {
      "text/plain": "<Figure size 800x800 with 1 Axes>",
      "image/png": "[encoded data removed]"
     },
     "metadata": {},
     "output_type": "display_data"
    }
   ],
   "source": [
    "label_counts = train_df_label['label'].value_counts()\n",
    "emotion_labels = ['Positive', 'Neutral', 'Negative']\n",
    "plt.figure(figsize=(8, 8))  # Set the figure size as needed\n",
    "plt.pie(label_counts, labels=[emotion_labels[i] for i in label_counts.index], autopct='%1.1f%%', startangle=90)\n",
    "plt.title('Distribution of Emotions in train_df_label')\n",
    "plt.show()"
   ],
   "metadata": {
    "collapsed": false,
    "ExecuteTime": {
     "end_time": "2024-06-02T02:53:45.666170Z",
     "start_time": "2024-06-02T02:53:45.611150Z"
    }
   },
   "id": "c7e8d709d4587cd5"
  },
  {
   "cell_type": "code",
   "execution_count": 10,
   "outputs": [],
   "source": [
    "train.to_csv(\"~/Desktop/Spring 2024/POLI179/poli 179 data/People's daily/Train/TRAIN.csv\")"
   ],
   "metadata": {
    "collapsed": false,
    "ExecuteTime": {
     "end_time": "2024-05-20T20:41:56.666075Z",
     "start_time": "2024-05-20T20:41:56.526038Z"
    }
   },
   "id": "e5bb6960cf8e3bcf"
  },
  {
   "cell_type": "code",
   "execution_count": 11,
   "outputs": [],
   "source": [
    "eval.to_csv(\"~/Desktop/Spring 2024/POLI179/poli 179 data/People's daily/Train/EVAL.csv\")"
   ],
   "metadata": {
    "collapsed": false,
    "ExecuteTime": {
     "end_time": "2024-05-20T20:41:58.373475Z",
     "start_time": "2024-05-20T20:41:58.328534Z"
    }
   },
   "id": "5e4021935762f1f9"
  },
  {
   "cell_type": "code",
   "execution_count": null,
   "outputs": [],
   "source": [],
   "metadata": {
    "collapsed": false
   },
   "id": "ddfba0c57951beff"
  }
 ],
 "metadata": {
  "kernelspec": {
   "display_name": "Python 3",
   "language": "python",
   "name": "python3"
  },
  "language_info": {
   "codemirror_mode": {
    "name": "ipython",
    "version": 2
   },
   "file_extension": ".py",
   "mimetype": "text/x-python",
   "name": "python",
   "nbconvert_exporter": "python",
   "pygments_lexer": "ipython2",
   "version": "2.7.6"
  }
 },
 "nbformat": 4,
 "nbformat_minor": 5
}
