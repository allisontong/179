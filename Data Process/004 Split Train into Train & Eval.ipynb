{
 "cells": [
  {
   "cell_type": "code",
   "execution_count": 1,
   "outputs": [],
   "source": [
    "import pandas as pd\n",
    "from sklearn.model_selection import train_test_split"
   ],
   "metadata": {
    "collapsed": false,
    "ExecuteTime": {
     "end_time": "2024-05-20T20:41:22.858722Z",
     "start_time": "2024-05-20T20:41:22.076319Z"
    }
   },
   "id": "d43be92aa1d220d1"
  },
  {
   "cell_type": "code",
   "execution_count": 2,
   "id": "initial_id",
   "metadata": {
    "collapsed": true,
    "ExecuteTime": {
     "end_time": "2024-05-20T20:41:23.953382Z",
     "start_time": "2024-05-20T20:41:23.500495Z"
    }
   },
   "outputs": [],
   "source": [
    "clean_train_df=pd.read_csv(\"~/Desktop/Spring 2024/POLI179/poli 179 data/People's daily/Train/clean_train_df.csv\")"
   ]
  },
  {
   "cell_type": "code",
   "execution_count": 3,
   "outputs": [],
   "source": [
    "train_label = pd.read_csv(\"~/Desktop/Spring 2024/POLI179/poli 179 data/People's daily/Train/all_train_label.csv\")"
   ],
   "metadata": {
    "collapsed": false,
    "ExecuteTime": {
     "end_time": "2024-05-20T20:41:24.646041Z",
     "start_time": "2024-05-20T20:41:24.633296Z"
    }
   },
   "id": "c1f8506847b64f06"
  },
  {
   "cell_type": "code",
   "execution_count": 4,
   "outputs": [],
   "source": [
    "train_df_label = pd.merge(clean_train_df, train_label, on='id')"
   ],
   "metadata": {
    "collapsed": false,
    "ExecuteTime": {
     "end_time": "2024-05-20T20:41:26.254008Z",
     "start_time": "2024-05-20T20:41:26.250543Z"
    }
   },
   "id": "8343f79b0fa4b428"
  },
  {
   "cell_type": "code",
   "execution_count": 5,
   "outputs": [],
   "source": [
    "train_df_label['TextBody'] = train_df_label['TextBody'].replace('nan', pd.NA)"
   ],
   "metadata": {
    "collapsed": false,
    "ExecuteTime": {
     "end_time": "2024-05-20T20:41:27.258690Z",
     "start_time": "2024-05-20T20:41:27.255978Z"
    }
   },
   "id": "b87e435897b03f50"
  },
  {
   "cell_type": "code",
   "execution_count": 6,
   "outputs": [],
   "source": [
    "train_df_label = train_df_label.dropna(subset=['TextBody'])"
   ],
   "metadata": {
    "collapsed": false,
    "ExecuteTime": {
     "end_time": "2024-05-20T20:41:28.690946Z",
     "start_time": "2024-05-20T20:41:28.687586Z"
    }
   },
   "id": "59decb0c5eecaff"
  },
  {
   "cell_type": "code",
   "execution_count": 7,
   "outputs": [],
   "source": [
    "train_df_label = train_df_label.drop(columns=['Unnamed: 0'])"
   ],
   "metadata": {
    "collapsed": false,
    "ExecuteTime": {
     "end_time": "2024-05-20T20:41:29.716582Z",
     "start_time": "2024-05-20T20:41:29.713055Z"
    }
   },
   "id": "bdb61f3332bb945d"
  },
  {
   "cell_type": "code",
   "execution_count": 12,
   "outputs": [],
   "source": [
    "# Split the dataset into training and evaluation sets\n",
    "train, eval= train_test_split(train_df_label, test_size=0.2, random_state=42)  # 20% for evaluation"
   ],
   "metadata": {
    "collapsed": false,
    "ExecuteTime": {
     "end_time": "2024-05-20T22:36:50.159467Z",
     "start_time": "2024-05-20T22:36:50.056006Z"
    }
   },
   "id": "e83d7a26d1e2622"
  },
  {
   "cell_type": "code",
   "execution_count": 13,
   "outputs": [
    {
     "name": "stdout",
     "output_type": "stream",
     "text": [
      "Training DataFrame:\n",
      "                                     id  \\\n",
      "6108   3a3246fa887241fd9bb5fa05f8eb8288   \n",
      "12883  5f7aae75c26742ea9abb0747dd80d5d2   \n",
      "8986   7028f8e7db8048f7b921c2c029a831ce   \n",
      "3932   45cad6fbc981464da4573e703c2c32ef   \n",
      "4623   885d294da65a4caea832a588eaca315b   \n",
      "\n",
      "                                                TextBody  label  \n",
      "6108   官场：为分到集资房他深夜上门给单身女局长送礼，却被潜规则楼道的灯很昏暗，电梯门开了又关上，一...      2  \n",
      "12883  投诉郴州郴电国际有限公司诈骗年月日缴费记录及账户余额年月日缴费记录及账户余额各位领导，本人系...      2  \n",
      "8986   别被双频路由器忽悠了，要用就用真双频搜狐科技搜狐网原标题：别被双频路由器忽悠了，要用就用真双...      1  \n",
      "3932   打印利川小河初中脱贫攻坚“大走访大排查”在行动恩施州政务。本网讯通讯员陈洪江为全面贯彻落实《...      1  \n",
      "4623   心碎！男子带妻儿逛商场，不料试衣镜突然坠落，岁女童被砸身亡素材源于网络，文章“爱吃甜瓜的小城...      2  \n",
      "\n",
      "Evaluation DataFrame:\n",
      "                                     id  \\\n",
      "2069   f12339b5c62943e088da392a9e9e139e   \n",
      "6888   d4c9666ea96843dea17dbe3e3f33ebc1   \n",
      "10980  8c4ecd6ae82e40babc8666f9429f8687   \n",
      "4302   8fe626b41d834a768b48c2a1be088103   \n",
      "9023   441240b82f0947ce83a89560daad7ead   \n",
      "\n",
      "                                                TextBody  label  \n",
      "2069   德国飞行员拒绝与俄军交战，已有人主动辞职：他们实在太强德国作为两次世界大战的发起国，也是目前...      1  \n",
      "6888   菜市场扒窃手机一惯犯男子被判拘役四个月中国法院网讯徐晓霞李红艳近日，江西省南昌市西湖区人民法...      2  \n",
      "10980  【应知应会】党员干部应知名词一党员干部必备口袋书党的性质中国共产党是中国工人阶级的先锋队，同...      1  \n",
      "4302   砚山一老人骑摩托摔倒路边寒夜里煎熬小时后情况原标题：砚山一老人骑摩托摔倒路边寒夜里煎熬小时后...      2  \n",
      "9023   信用柞水党的十八大以来，社会信用体系建设被摆上重要位置加速推进。“党中央、国务院通过一系列决...      1  \n"
     ]
    }
   ],
   "source": [
    "# Display the first few rows of the training and evaluation sets\n",
    "print(\"Training DataFrame:\")\n",
    "print(train.head())\n",
    "print(\"\\nEvaluation DataFrame:\")\n",
    "print(eval.head())"
   ],
   "metadata": {
    "collapsed": false,
    "ExecuteTime": {
     "end_time": "2024-05-21T03:37:40.070365Z",
     "start_time": "2024-05-21T03:37:40.035429Z"
    }
   },
   "id": "996f7de1b19cbb88"
  },
  {
   "cell_type": "code",
   "execution_count": 10,
   "outputs": [],
   "source": [
    "train.to_csv(\"~/Desktop/Spring 2024/POLI179/poli 179 data/People's daily/Train/TRAIN.csv\")"
   ],
   "metadata": {
    "collapsed": false,
    "ExecuteTime": {
     "end_time": "2024-05-20T20:41:56.666075Z",
     "start_time": "2024-05-20T20:41:56.526038Z"
    }
   },
   "id": "e5bb6960cf8e3bcf"
  },
  {
   "cell_type": "code",
   "execution_count": 11,
   "outputs": [],
   "source": [
    "eval.to_csv(\"~/Desktop/Spring 2024/POLI179/poli 179 data/People's daily/Train/EVAL.csv\")"
   ],
   "metadata": {
    "collapsed": false,
    "ExecuteTime": {
     "end_time": "2024-05-20T20:41:58.373475Z",
     "start_time": "2024-05-20T20:41:58.328534Z"
    }
   },
   "id": "5e4021935762f1f9"
  },
  {
   "cell_type": "code",
   "execution_count": null,
   "outputs": [],
   "source": [],
   "metadata": {
    "collapsed": false
   },
   "id": "ddfba0c57951beff"
  }
 ],
 "metadata": {
  "kernelspec": {
   "display_name": "Python 3",
   "language": "python",
   "name": "python3"
  },
  "language_info": {
   "codemirror_mode": {
    "name": "ipython",
    "version": 2
   },
   "file_extension": ".py",
   "mimetype": "text/x-python",
   "name": "python",
   "nbconvert_exporter": "python",
   "pygments_lexer": "ipython2",
   "version": "2.7.6"
  }
 },
 "nbformat": 4,
 "nbformat_minor": 5
}
