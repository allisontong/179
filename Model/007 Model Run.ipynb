{
 "cells": [
  {
   "cell_type": "code",
   "execution_count": 122,
   "id": "7cbf108b7cdc8be2",
   "metadata": {
    "collapsed": true,
    "ExecuteTime": {
     "end_time": "2024-05-21T17:45:41.599138Z",
     "start_time": "2024-05-21T17:38:14.539984Z"
    }
   },
   "outputs": [
    {
     "name": "stdout",
     "output_type": "stream",
     "text": [
      "Some weights of BertForSequenceClassification were not initialized from the model checkpoint at hfl/chinese-roberta-wwm-ext and are newly initialized: ['classifier.bias', 'classifier.weight']\r\n",
      "You should probably TRAIN this model on a down-stream task to be able to use it for predictions and inference.\r\n",
      "05/21/2024 10:38:52 - INFO - __main__ -   Saving model checkpoint to checkpoints/checkpoint-0\r\n",
      "05/21/2024 10:42:24 - INFO - __main__ -   Saving model checkpoint to checkpoints/checkpoint-500\r\n",
      "^C\r\n",
      "Traceback (most recent call last):\r\n",
      "  File \"/Users/therealu/PycharmProjects/pythonProject/pythonProject13/./final.py\", line 304, in <module>\r\n",
      "    main()\r\n",
      "  File \"/Users/therealu/PycharmProjects/pythonProject/pythonProject13/./final.py\", line 175, in main\r\n",
      "    loss.backward()\r\n",
      "  File \"/Users/therealu/PycharmProjects/pythonProject/pythonProject13/venv/lib/python3.10/site-packages/torch/_tensor.py\", line 522, in backward\r\n",
      "    torch.autograd.backward(\r\n",
      "  File \"/Users/therealu/PycharmProjects/pythonProject/pythonProject13/venv/lib/python3.10/site-packages/torch/autograd/__init__.py\", line 266, in backward\r\n",
      "    Variable._execution_engine.run_backward(  # Calls into the C++ engine to run the backward pass\r\n",
      "KeyboardInterrupt\r\n"
     ]
    }
   ],
   "source": [
    "!python '006 Model.py' \\\n",
    "--do_train \\\n",
    "--do_eval \\\n",
    "--do_predict \\\n",
    "--data_dir \"~/Desktop/Spring 2024/POLI179/poli 179 data/People's daily/Train\"\\\n",
    "--plot_dir Plot\\\n",
    "--train_file TRAIN.csv\\\n",
    "--eval_file EVAL.csv\\\n",
    "--output_dir checkpoints\\\n",
    "--max_seq_length 256 \\\n",
    "--num_train_epochs 10\\\n",
    "--drop_out_rate 0.3\\\n",
    "--warmup_steps 0 \\\n",
    "--per_gpu_eval_batch_size 64 \\\n",
    "--learning_rate 1e-5 \\\n",
    "--adam_epsilon 1e-6 \\\n",
    "--weight_decay 0 \\\n",
    "--freeze 0"
   ]
  },
  {
   "cell_type": "code",
   "execution_count": null,
   "outputs": [],
   "source": [
    "!python '006 Model.py' \\\n",
    "--do_predict \\\n",
    "--data_dir \"~/Desktop/Spring 2024/POLI179/poli 179 data/People's daily/Train\"\\\n",
    "--output_dir checkpoints\\\n",
    "--plot_dir Plot\\\n",
    "--pred_file final_data.csv\\\n",
    "--max_seq_length 256 \\\n",
    "--eval_steps 200 \\\n",
    "--gradient_accumulation_steps 4\\\n",
    "--warmup_steps 0 \\\n",
    "--per_gpu_eval_batch_size 32 \\\n",
    "--learning_rate 3e-5 \\\n",
    "--adam_epsilon 1e-6 \\\n",
    "--weight_decay 0 \\\n",
    "--train_steps 20000 \\\n",
    "--freeze 0"
   ],
   "metadata": {
    "collapsed": false
   },
   "id": "2e753523979d66f0"
  }
 ],
 "metadata": {
  "kernelspec": {
   "display_name": "Python 3",
   "language": "python",
   "name": "python3"
  },
  "language_info": {
   "codemirror_mode": {
    "name": "ipython",
    "version": 2
   },
   "file_extension": ".py",
   "mimetype": "text/x-python",
   "name": "python",
   "nbconvert_exporter": "python",
   "pygments_lexer": "ipython2",
   "version": "2.7.6"
  }
 },
 "nbformat": 4,
 "nbformat_minor": 5
}
